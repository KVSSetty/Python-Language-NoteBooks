{
 "cells": [
  {
   "cell_type": "markdown",
   "metadata": {},
   "source": [
    "# How To Use ***args** and ****kwargs** in Python 3"
   ]
  },
  {
   "cell_type": "markdown",
   "metadata": {},
   "source": [
    "When programming, you may not be aware of all the possible use cases of your code, and may want to offer more options for future programmers working with the modules,one such option is to specify a function that can be called with an arbitrary number of arguments.\n",
    "We can pass a variable number of arguments to a function by using ***args** and ****kwargs** in our code."
   ]
  },
  {
   "cell_type": "markdown",
   "metadata": {},
   "source": [
    "### Understanding `*args`"
   ]
  },
  {
   "cell_type": "markdown",
   "metadata": {},
   "source": [
    "In Python, the single-asterisk form of `*args` can be used as a parameter to send a non-keyworded variable-length argument list to functions. It is worth noting that the asterisk `(*`) is the important element here, as the word `args` is the established conventional idiom, though it is not enforced by the language.That is to say we can also use something like `*param` "
   ]
  },
  {
   "cell_type": "markdown",
   "metadata": {},
   "source": [
    "Let’s look at a typical function that uses two arguments:"
   ]
  },
  {
   "cell_type": "code",
   "execution_count": 19,
   "metadata": {},
   "outputs": [],
   "source": [
    "def multiply(x, y):\n",
    "    \n",
    "    print (x * y)"
   ]
  },
  {
   "cell_type": "markdown",
   "metadata": {},
   "source": [
    "In the code above, we built the function with `x` and `y` as parameters, and then when we call the function, we need to use numbers to correspond with `x` and `y`. In this case, we will pass the integer `5` in for `x` and the integer `4` in for `y`:"
   ]
  },
  {
   "cell_type": "code",
   "execution_count": 20,
   "metadata": {},
   "outputs": [
    {
     "name": "stdout",
     "output_type": "stream",
     "text": [
      "20\n"
     ]
    }
   ],
   "source": [
    "multiply(5, 4)"
   ]
  },
  {
   "cell_type": "markdown",
   "metadata": {},
   "source": [
    "We’ll receive the above output, showing that the integers 5 and 4 were multiplied as per the `multiply(x,y)` function:"
   ]
  },
  {
   "cell_type": "markdown",
   "metadata": {},
   "source": [
    "What if, later on, we decide that we would like to multiply three numbers rather than just two? If we try to add an additional number to the function call, as shown below, we’ll receive an error."
   ]
  },
  {
   "cell_type": "code",
   "execution_count": 21,
   "metadata": {},
   "outputs": [
    {
     "ename": "TypeError",
     "evalue": "multiply() takes 2 positional arguments but 3 were given",
     "output_type": "error",
     "traceback": [
      "\u001b[1;31m---------------------------------------------------------------------------\u001b[0m",
      "\u001b[1;31mTypeError\u001b[0m                                 Traceback (most recent call last)",
      "\u001b[1;32m<ipython-input-21-fd687e85edc0>\u001b[0m in \u001b[0;36m<module>\u001b[1;34m()\u001b[0m\n\u001b[1;32m----> 1\u001b[1;33m \u001b[0mmultiply\u001b[0m\u001b[1;33m(\u001b[0m\u001b[1;36m5\u001b[0m\u001b[1;33m,\u001b[0m\u001b[1;36m4\u001b[0m\u001b[1;33m,\u001b[0m\u001b[1;36m7\u001b[0m\u001b[1;33m)\u001b[0m\u001b[1;33m\u001b[0m\u001b[0m\n\u001b[0m",
      "\u001b[1;31mTypeError\u001b[0m: multiply() takes 2 positional arguments but 3 were given"
     ]
    }
   ],
   "source": [
    "multiply(5,4,7)"
   ]
  },
  {
   "cell_type": "markdown",
   "metadata": {},
   "source": [
    "So, if you suspect that you may need to use more arguments later on, you can make use of `*args` as your parameter instead.\n",
    "\n",
    "We can essentially create the same function and code that we showed in the first example, by removing `x` and `y` as function parameters, and instead replacing them with `*args`:"
   ]
  },
  {
   "cell_type": "code",
   "execution_count": 22,
   "metadata": {},
   "outputs": [
    {
     "name": "stdout",
     "output_type": "stream",
     "text": [
      "20\n",
      "90\n",
      "24\n",
      "900\n"
     ]
    }
   ],
   "source": [
    "def multiply(*args):\n",
    "    z = 1\n",
    "    for num in args:\n",
    "        z *= num\n",
    "    print(z)\n",
    "\n",
    "multiply(4, 5)\n",
    "multiply(10, 9)\n",
    "multiply(2, 3, 4)\n",
    "multiply(3, 5, 10, 6)"
   ]
  },
  {
   "cell_type": "markdown",
   "metadata": {},
   "source": [
    "When we run this code, we’ll received the product for each of these function calls as above."
   ]
  },
  {
   "cell_type": "markdown",
   "metadata": {},
   "source": [
    "Because we used `*args` to send a variable-length argument list to our function, we were able to pass in as many arguments as we wished into the function calls.\n",
    "\n",
    "So,with `*args` you can create more flexible code that accepts a varied amount of non-keyworded arguments within your function."
   ]
  },
  {
   "cell_type": "markdown",
   "metadata": {},
   "source": [
    "### Understanding `**kwargs`"
   ]
  },
  {
   "cell_type": "markdown",
   "metadata": {},
   "source": [
    "The double asterisk form of `**kwargs` is used to pass a keyworded, variable-length argument dictionary to a function. Again, the two asterisks (`**`) are the important element here, as the word `kwargs` is conventionally used, though not enforced by the language.So we can also something like `**kwparams`.\n",
    "\n",
    "Like `*args`, `**kwargs` can take however many arguments you would like to supply to it. However, `**kwargs` differs from `*args` in that you will need to assign keyword parameters.\n",
    "\n",
    "First, let’s simply print out the `**kwargs` arguments that we pass to a function. We’ll create a short function to do this:"
   ]
  },
  {
   "cell_type": "code",
   "execution_count": 23,
   "metadata": {},
   "outputs": [
    {
     "name": "stdout",
     "output_type": "stream",
     "text": [
      "{'kwargs_1': 'Shark', 'kwargs_2': 4.5, 'kwargs_3': True}\n"
     ]
    }
   ],
   "source": [
    "def print_kwargs(**kwargs):\n",
    "        print(kwargs)\n",
    "\n",
    "print_kwargs(kwargs_1=\"Shark\", kwargs_2=4.5, kwargs_3=True)"
   ]
  },
  {
   "cell_type": "markdown",
   "metadata": {},
   "source": [
    "What is important to note is that a dictionary called kwargs is created and we can work with it just like we can work with other dictionaries.\n",
    "\n",
    "Let’s create another short program to show how we can make use of `**kwargs`. Here we’ll create a function to greet a dictionary of names. First, we’ll start with a dictionary of two names:"
   ]
  },
  {
   "cell_type": "code",
   "execution_count": 24,
   "metadata": {},
   "outputs": [],
   "source": [
    "def print_values(**kwargs):\n",
    "    for key, value in kwargs.items():\n",
    "        print(\"The value of {} is {}\".format(key, value))"
   ]
  },
  {
   "cell_type": "code",
   "execution_count": 25,
   "metadata": {},
   "outputs": [
    {
     "name": "stdout",
     "output_type": "stream",
     "text": [
      "The value of name01 is Ram\n",
      "The value of name02 is Sham\n",
      "The value of name03 is Bhim\n"
     ]
    }
   ],
   "source": [
    "print_values(name01='Ram',name02=\"Sham\",name03=\"Bhim\")"
   ]
  },
  {
   "cell_type": "markdown",
   "metadata": {},
   "source": [
    "Let’s now pass additional arguments to the function to show that `**kwargs` will accept however many arguments you would like to include:"
   ]
  },
  {
   "cell_type": "code",
   "execution_count": 26,
   "metadata": {},
   "outputs": [
    {
     "name": "stdout",
     "output_type": "stream",
     "text": [
      "The value of name_1 is Arjun\n",
      "The value of name_2 is Gopi\n",
      "The value of name_3 is Hari\n",
      "The value of name_4 is Prasad\n",
      "The value of name_5 is Ram\n",
      "The value of name_6 is Vinod\n"
     ]
    }
   ],
   "source": [
    "print_values(\n",
    "            name_1=\"Arjun\",\n",
    "            name_2=\"Gopi\",\n",
    "            name_3=\"Hari\",\n",
    "            name_4=\"Prasad\",\n",
    "            name_5=\"Ram\",\n",
    "            name_6=\"Vinod\"\n",
    "        )"
   ]
  },
  {
   "cell_type": "markdown",
   "metadata": {},
   "source": [
    "Using `**kwargs` provides us with flexibility to use keyword arguments in our program. When we use `**kwargs` as a parameter, we don’t need to know how many arguments we would eventually like to pass to a function."
   ]
  },
  {
   "cell_type": "markdown",
   "metadata": {},
   "source": [
    "#### Ordering Arguments"
   ]
  },
  {
   "cell_type": "markdown",
   "metadata": {},
   "source": [
    "When ordering arguments within a function or function call, arguments need to occur in a particular order:\n",
    "\n",
    "1. Formal positional arguments\n",
    "2. `*args`\n",
    "3. Keyword arguments\n",
    "4. `**kwargs`\n",
    "In practice, when working with explicit positional parameters along with `*args` and `**kwargs`, your function would look like this:"
   ]
  },
  {
   "cell_type": "raw",
   "metadata": {},
   "source": [
    "def example(arg_1, arg_2, *args, **kwargs):\n",
    "..."
   ]
  },
  {
   "cell_type": "markdown",
   "metadata": {},
   "source": [
    "And, when working with positional parameters along with named keyword parameters in addition to `*args` and `**kwargs`, your function would look like this:"
   ]
  },
  {
   "cell_type": "raw",
   "metadata": {},
   "source": [
    "def example2(arg_1, arg_2, *args, kw_1=\"shark\", kw_2=\"blobfish\", **kwargs):\n",
    "..."
   ]
  },
  {
   "cell_type": "markdown",
   "metadata": {},
   "source": [
    "It is important to keep the order of arguments in mind when creating functions so that you do not receive a syntax error in your Python code."
   ]
  },
  {
   "cell_type": "markdown",
   "metadata": {},
   "source": [
    "## Using `*args` and `**kwargs` in Function Calls"
   ]
  },
  {
   "cell_type": "markdown",
   "metadata": {},
   "source": [
    "We can also use `*args` and `**kwargs` to pass arguments into functions.\n",
    "\n",
    "First, let’s look at an example with `*args`."
   ]
  },
  {
   "cell_type": "code",
   "execution_count": 27,
   "metadata": {},
   "outputs": [
    {
     "name": "stdout",
     "output_type": "stream",
     "text": [
      "arg_1: Sham\n",
      "arg_2: Kiran\n",
      "arg_3: Arjun\n"
     ]
    }
   ],
   "source": [
    "def some_func(param_1, param_2, param_3):\n",
    "    print(\"arg_1:\", param_1)\n",
    "    print(\"arg_2:\", param_2)\n",
    "    print(\"arg_3:\", param_3)\n",
    "\n",
    "args = (\"Sham\", \"Kiran\", \"Arjun\")\n",
    "some_func(*args)"
   ]
  },
  {
   "cell_type": "markdown",
   "metadata": {},
   "source": [
    "In the function above, there are three parameters defined as param_1, param_2 and param_3. The function will print out each of these parameters. We then create a variable that is set to an iterable (in this case, a tuple), and can pass that variable into the function with the asterisk syntax."
   ]
  },
  {
   "cell_type": "markdown",
   "metadata": {},
   "source": [
    "We can also modify the program above to an iterable list data type with a different variable name. Let’s also combine the `*args` syntax with a positional named parameter:"
   ]
  },
  {
   "cell_type": "code",
   "execution_count": 28,
   "metadata": {},
   "outputs": [
    {
     "name": "stdout",
     "output_type": "stream",
     "text": [
      "arg_1: 1\n",
      "arg_2: 2\n",
      "arg_3: 3\n"
     ]
    }
   ],
   "source": [
    "def some_args(arg_1, arg_2, arg_3):\n",
    "    print(\"arg_1:\", arg_1)\n",
    "    print(\"arg_2:\", arg_2)\n",
    "    print(\"arg_3:\", arg_3)\n",
    "\n",
    "my_list = [2, 3]\n",
    "some_args(1, *my_list)"
   ]
  },
  {
   "cell_type": "markdown",
   "metadata": {},
   "source": [
    "Similarly, the keyworded `**kwargs` arguments can be used to call a function. We will set up a variable equal to a dictionary with 3 key-value pairs (we’ll use dict_names here, but it can be called whatever you want), and pass it to a function with 3 arguments:\n",
    "\n"
   ]
  },
  {
   "cell_type": "code",
   "execution_count": 29,
   "metadata": {},
   "outputs": [
    {
     "name": "stdout",
     "output_type": "stream",
     "text": [
      "kwarg_1: Vinod\n",
      "kwarg_2: Hari\n",
      "kwarg_3: Ram\n"
     ]
    }
   ],
   "source": [
    "def some_kwargs(kwarg_1, kwarg_2, kwarg_3):\n",
    "    print(\"kwarg_1:\", kwarg_1)\n",
    "    print(\"kwarg_2:\", kwarg_2)\n",
    "    print(\"kwarg_3:\", kwarg_3)\n",
    "\n",
    "dict_names = {\"kwarg_1\": \"Vinod\", \"kwarg_2\": \"Hari\", \"kwarg_3\": \"Ram\"}\n",
    "some_kwargs(**dict_names)"
   ]
  },
  {
   "cell_type": "markdown",
   "metadata": {},
   "source": [
    "When calling a function, you can use `*args` and `**kwargs` to pass arguments."
   ]
  },
  {
   "cell_type": "markdown",
   "metadata": {},
   "source": [
    "## Summary"
   ]
  },
  {
   "cell_type": "markdown",
   "metadata": {},
   "source": [
    "We can use the special syntax of `*args` and `**kwargs` within a function definition in order to pass a variable number of arguments to the function.\n",
    "\n",
    "Creating functions that accept `*args` and `**kwargs` are best used in situations where you expect that the number of inputs within the argument list will remain relatively small. The use of `*args` and `**kwargs` is primarily to provide readability and convenience, but should be done with care."
   ]
  }
 ],
 "metadata": {
  "kernelspec": {
   "display_name": "Python 3",
   "language": "python",
   "name": "python3"
  },
  "language_info": {
   "codemirror_mode": {
    "name": "ipython",
    "version": 3
   },
   "file_extension": ".py",
   "mimetype": "text/x-python",
   "name": "python",
   "nbconvert_exporter": "python",
   "pygments_lexer": "ipython3",
   "version": "3.6.5"
  }
 },
 "nbformat": 4,
 "nbformat_minor": 2
}
