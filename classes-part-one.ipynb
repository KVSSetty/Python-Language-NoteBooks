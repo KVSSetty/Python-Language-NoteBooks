{
 "cells": [
  {
   "cell_type": "markdown",
   "metadata": {},
   "source": [
    "## Object Oriented Programming"
   ]
  },
  {
   "cell_type": "markdown",
   "metadata": {},
   "source": [
    "In all the programs we wrote till now, we have designed our program around functions i.e. blocks of statements which manipulate data. This is called the procedure-oriented way of programming. There is another way of organizing your program which is to combine data and functionality and wrap it inside something called an object. This is called the object oriented programming paradigm. Most of the time you can use procedural programming, but when writing large programs or have a problem that is better suited to this method, you can use object oriented programming techniques."
   ]
  },
  {
   "cell_type": "markdown",
   "metadata": {},
   "source": [
    "Classes and objects are the two main aspects of object oriented programming. A **class** creates a new type where **objects** are **instances** of the class. An analogy is that you can have variables of type int which translates to saying that variables that store integers are variables which are instances (objects) of the int class."
   ]
  },
  {
   "cell_type": "raw",
   "metadata": {},
   "source": [
    "Note for Static Language Programmers\n",
    "\n",
    "Note that even integers are treated as objects (of the int class). This is unlike C++ and Java (before version 1.5) where integers are primitive native types.\n",
    "\n",
    "See help(int) for more details on the class.\n",
    "\n",
    "C# and Java 1.5 programmers will find this similar to the boxing and unboxing concept."
   ]
  },
  {
   "cell_type": "markdown",
   "metadata": {},
   "source": [
    "Objects can store **data** using ordinary variables that belong to the object. Variables that belong to an object or class are referred to as **fields**. Objects can also have functionality by using functions that belong to a class. Such functions are called **methods** of the class. This terminology is important because it helps us to differentiate between functions and variables which are independent and those which belong to a class or object. Collectively, the fields and methods can be referred to as the **attributes** of that class."
   ]
  },
  {
   "cell_type": "markdown",
   "metadata": {},
   "source": [
    "Fields are of two types - they can belong to each instance/object of the class or they can belong to the class itself. They are called **instance variables** and **class variables** respectively.\n",
    "\n",
    "A class is created using the *class* keyword. The fields and methods of the class are listed in an indented block."
   ]
  },
  {
   "cell_type": "markdown",
   "metadata": {},
   "source": [
    "The simplest form of class definition looks like this:"
   ]
  },
  {
   "cell_type": "raw",
   "metadata": {},
   "source": [
    "class ClassName:\n",
    "    <statement-1>\n",
    "    .\n",
    "    .\n",
    "    .\n",
    "    <statement-N>"
   ]
  },
  {
   "cell_type": "markdown",
   "metadata": {},
   "source": [
    "Class definitions, like function definitions (def statements) must be executed before they have any effect. (You could conceivably place a class definition in a branch of an if statement, or inside a function.)\n",
    "\n",
    "In practice, the statements inside a class definition will usually be function definitions, but other statements are allowed, and sometimes useful — we’ll come back to this later. The function definitions inside a class normally have a peculiar form of argument list, dictated by the calling conventions for methods — again, this is explained later.\n",
    "\n",
    "When a class definition is entered, a new namespace is created, and used as the local scope — thus, all assignments to local variables go into this new namespace. In particular, function definitions bind the name of the new function here.\n",
    "\n",
    "When a class definition is left normally (via the end), a class object is created. This is basically a wrapper around the contents of the namespace created by the class definition; we’ll learn more about class objects in the next section. The original local scope (the one in effect just before the class definition was entered) is reinstated, and the class object is bound here to the class name given in the class definition header (**ClassName** in the example)."
   ]
  },
  {
   "cell_type": "markdown",
   "metadata": {},
   "source": [
    "###  The *self*"
   ]
  },
  {
   "cell_type": "markdown",
   "metadata": {},
   "source": [
    "Class methods have only one specific difference from ordinary functions - they must have an extra first name that has to be added to the beginning of the parameter list, but you do not give a value for this parameter when you call the method, Python will provide it. This particular variable refers to the object itself, and by convention, it is given the name **self**.\n",
    "\n",
    "Although, you can give any name for this parameter, it is strongly recommended that you use the name self - any other name is definitely frowned upon. There are many advantages to using a standard name - any reader of your program will immediately recognize it and even specialized IDEs (Integrated Development Environments) can help you if you use **self**."
   ]
  },
  {
   "cell_type": "raw",
   "metadata": {},
   "source": [
    "Note for C++/Java/C# Programmers\n",
    "\n",
    "The \"\"self\"\" in Python is equivalent to the \"this\" pointer in C++ and the this reference in Java and C#."
   ]
  },
  {
   "cell_type": "markdown",
   "metadata": {},
   "source": [
    "You must be wondering how Python gives the value for **self** and why you don't need to give a value\n",
    "for it. An example will make this clear. Say you have a class called **MyClass** and an instance of this class called **myobject**. When you call a method of this object as **myobject.method(arg1, arg2)**, this is automatically converted by Python into **MyClass.method(myobject, arg1, arg2)** - this is all the special **self** is about.\n",
    "\n",
    "This also means that if you have a method which takes no arguments, then you still have to have one argument - the self."
   ]
  },
  {
   "cell_type": "markdown",
   "metadata": {},
   "source": [
    "## Classes"
   ]
  },
  {
   "cell_type": "markdown",
   "metadata": {},
   "source": [
    "The simplest class possible is shown in the following example:"
   ]
  },
  {
   "cell_type": "code",
   "execution_count": 2,
   "metadata": {},
   "outputs": [
    {
     "name": "stdout",
     "output_type": "stream",
     "text": [
      "<__main__.Person object at 0x000001B51ABC9908>\n"
     ]
    }
   ],
   "source": [
    "class Person:\n",
    "    pass  # An empty block\n",
    "\n",
    "p = Person()\n",
    "print(p)"
   ]
  },
  {
   "cell_type": "markdown",
   "metadata": {},
   "source": [
    "#### How It Works\n",
    "\n",
    "We create a new class using the class statement and the name of the class. This is followed by an indented block of statements which form the body of the class. In this case, we have an empty block which is indicated using the pass statement.\n",
    "\n",
    "Next, we create an object/instance of this class using the name of the class followed by a pair of parentheses. (We will learn more about instantiation in the next section). For our verification, we confirm the type of the variable by simply printing it. It tells us that we have an instance of the Person class in the **`__main__`** module.\n",
    "\n",
    "Notice that the address of the computer memory where your object is stored is also printed. The address will have a different value on your computer since Python can store the object wherever it finds space."
   ]
  },
  {
   "cell_type": "markdown",
   "metadata": {},
   "source": [
    "## Methods"
   ]
  },
  {
   "cell_type": "markdown",
   "metadata": {},
   "source": [
    "We have already discussed that classes/objects can have methods just like functions except that we have an extra self variable. We will now see an example:"
   ]
  },
  {
   "cell_type": "code",
   "execution_count": 3,
   "metadata": {},
   "outputs": [
    {
     "name": "stdout",
     "output_type": "stream",
     "text": [
      "Hello, how are you?\n"
     ]
    }
   ],
   "source": [
    "class Person:\n",
    "    def say_hi(self):\n",
    "        print('Hello, how are you?')\n",
    "\n",
    "p = Person()\n",
    "p.say_hi()\n",
    "# The previous 2 lines can also be written as\n",
    "# Person().say_hi()"
   ]
  },
  {
   "cell_type": "markdown",
   "metadata": {},
   "source": [
    "#### How It Works\n",
    "\n",
    "Here we see the self in action. Notice that the say_hi method takes no parameters but still has the self in the function definition."
   ]
  },
  {
   "cell_type": "markdown",
   "metadata": {},
   "source": [
    "### The ` __init__`  method"
   ]
  },
  {
   "cell_type": "markdown",
   "metadata": {},
   "source": [
    "There are many method names which have special significance in Python classes. We will see the significance of the `__init__` method now.\n",
    "\n",
    "The **`__init__`** method is run as soon as an object of a class is instantiated (i.e. created). The method is useful to do any initialization (i.e. passing initial values to your object) you want to do with your object. Notice the double underscores both at the beginning and at the end of the name."
   ]
  },
  {
   "cell_type": "markdown",
   "metadata": {},
   "source": [
    "##### Example:"
   ]
  },
  {
   "cell_type": "code",
   "execution_count": 5,
   "metadata": {},
   "outputs": [
    {
     "name": "stdout",
     "output_type": "stream",
     "text": [
      "Hello, my name is KVS Setty\n"
     ]
    }
   ],
   "source": [
    "class Person:\n",
    "    def __init__(self, name):\n",
    "        self.name = name\n",
    "\n",
    "    def say_hi(self):\n",
    "        print('Hello, my name is', self.name)\n",
    "\n",
    "p = Person('KVS Setty')\n",
    "p.say_hi()\n",
    "# The previous 2 lines can also be written as\n",
    "# Person('Swaroop').say_hi()"
   ]
  },
  {
   "cell_type": "markdown",
   "metadata": {},
   "source": [
    "##### How It Works\n",
    "\n",
    "Here, we define the **`__init__`** method as taking a parameter *name* (along with the usual self). Here, we just create a new field also called name. Notice these are two different variables even though they are both called 'name'. There is no problem because the dotted notation self.name means that there is something called \"name\" that is part of the object called \"self\" and the other name is a local variable. Since we explicitly indicate which name we are referring to, there is no confusion.\n",
    "\n",
    "When creating new instance p, of the class Person, we do so by using the class name, followed by the arguments in the parentheses: p = Person('Swaroop').\n",
    "\n",
    "We do not explicitly call the **`__init__`** method. This is the special significance of this method.\n",
    "\n",
    "Now, we are able to use the **self.name** field in our methods which is demonstrated in the say_hi method."
   ]
  },
  {
   "cell_type": "markdown",
   "metadata": {},
   "source": [
    "### Class And Object Variables"
   ]
  },
  {
   "cell_type": "markdown",
   "metadata": {},
   "source": [
    "We have already discussed the functionality part of classes and objects (i.e. methods), now let us learn about the data part. The data part, i.e. fields, are nothing but ordinary variables that are bound to the **namespaces** of the classes and objects. This means that these names are valid within the context of these classes and objects only. That's why they are called name spaces.\n",
    "\n",
    "There are two types of fields - class variables and object variables which are classified depending on whether the class or the object owns the variables respectively.\n",
    "\n",
    "**Class variables** are shared - they can be accessed by all instances of that class. There is only one copy of the class variable and when any one object makes a change to a class variable, that change will be seen by all the other instances.\n",
    "\n",
    "**Object variable** are owned by each individual object/instance of the class. In this case, each object has its own copy of the field i.e. they are not shared and are not related in any way to the field by the same name in a different instance.\n",
    "\n",
    "An example will make this easy to understand :"
   ]
  },
  {
   "cell_type": "code",
   "execution_count": 10,
   "metadata": {},
   "outputs": [
    {
     "name": "stdout",
     "output_type": "stream",
     "text": [
      "(Initializing R2-D2)\n",
      "Greetings, my masters call me R2-D2.\n",
      "We have 1 robots.\n",
      "(Initializing C-3PO)\n",
      "Greetings, my masters call me C-3PO.\n",
      "We have 2 robots.\n",
      "\n",
      "Robots can do some work here.\n",
      " work1\n",
      " work2 \n",
      " work3 \n",
      "\n",
      "Robots have finished their work. So let's destroy them.\n",
      "\n",
      "R2-D2 is being destroyed!\n",
      "\n",
      "There are still 1 robots working.\n",
      "C-3PO is being destroyed!\n",
      "\n",
      "C-3PO was the last one.\n",
      "We have 0 robots.\n"
     ]
    }
   ],
   "source": [
    "class Robot:\n",
    "    \"\"\"Represents a robot, with a name.\"\"\"\n",
    "\n",
    "    # A class variable, counting the number of robots\n",
    "    population = 0\n",
    "\n",
    "    def __init__(self, name):\n",
    "        \"\"\"Initializes the data.\"\"\"\n",
    "        self.name = name\n",
    "        print(\"(Initializing {})\".format(self.name))\n",
    "\n",
    "        # When this robot is created, the robot\n",
    "        # adds to the population\n",
    "        Robot.population += 1\n",
    "\n",
    "    def die(self):\n",
    "        \"\"\"I am dying.\"\"\"\n",
    "        print(\"{} is being destroyed!\\n\".format(self.name))\n",
    "\n",
    "        Robot.population -= 1\n",
    "\n",
    "        if Robot.population == 0:\n",
    "            print(\"{} was the last one.\".format(self.name))\n",
    "        else:\n",
    "            print(\"There are still {:d} robots working.\".format(\n",
    "                Robot.population))\n",
    "\n",
    "    def say_hi(self):\n",
    "        \"\"\"Greeting by the robot.\n",
    "\n",
    "        Yeah, they can do that.\"\"\"\n",
    "        print(\"Greetings, my masters call me {}.\".format(self.name))\n",
    "\n",
    "    @classmethod\n",
    "    def how_many(cls):\n",
    "        \"\"\"Prints the current population.\"\"\"\n",
    "        print(\"We have {:d} robots.\".format(cls.population))\n",
    "\n",
    "\n",
    "droid1 = Robot(\"R2-D2\")\n",
    "droid1.say_hi()\n",
    "Robot.how_many()\n",
    "\n",
    "droid2 = Robot(\"C-3PO\")\n",
    "droid2.say_hi()\n",
    "Robot.how_many()\n",
    "\n",
    "print(\"\\nRobots can do some work here.\\n work1\\n work2 \\n work3 \\n\")\n",
    "\n",
    "print(\"Robots have finished their work. So let's destroy them.\\n\")\n",
    "droid1.die()\n",
    "droid2.die()\n",
    "\n",
    "Robot.how_many()"
   ]
  },
  {
   "cell_type": "markdown",
   "metadata": {},
   "source": [
    "#### How It Works\n",
    "\n",
    "This is a long example but helps demonstrate the nature of class and object variables. Here, population belongs to the Robot class and hence is a class variable. The name variable belongs to the object (it is assigned using self) and hence is an object variable.\n",
    "\n",
    "Thus, we refer to the population class variable as Robot.population and not as self.population. We refer to the object variable name using self.name notation in the methods of that object. Remember this simple difference between class and object variables. Also note that an object variable with the same name as a class variable will hide the class variable!\n",
    "\n",
    "Instead of Robot.population, we could have also used self.`__class__`.population because every object refers to its class via the self.`__class__` attribute.\n",
    "\n",
    "The how_many is actually a method that belongs to the class and not to the object. This means we can define it as either a classmethod or a staticmethod depending on whether we need to know which class we are part of. Since we refer to a class variable, let's use *classmethod*.\n",
    "\n",
    "We have marked the how_many method as a class method using a **decorator**.\n",
    "\n",
    "Decorators can be imagined to be a shortcut to calling a wrapper function (i.e. a function that \"wraps\" around another function so that it can do something before or after the inner function), so applying the @classmethod decorator is the same as calling:\n",
    "\n",
    "`how_many = classmethod(how_many)`\n",
    "\n",
    "Observe that the __init__ method is used to initialize the Robot instance with a name. In this method, we increase the population count by 1 since we have one more robot being added. Also observe that the values of self.name is specific to each object which indicates the nature of object variables.\n",
    "\n",
    "Remember, that you must refer to the variables and methods of the same object using the self only. This is called an attribute reference.\n",
    "\n",
    "In this program, we also see the use of docstrings for classes as well as methods. We can access the class docstring at runtime using Robot.**`__doc__`** and the method docstring as Robot.say_hi.**`__doc__`**\n",
    "\n",
    "In the die method, we simply decrease the Robot.population count by 1.\n",
    "\n",
    "All class members are public. One exception: If you use data members with names using the double underscore prefix such as `__privatevar`, Python uses name-mangling to effectively make it a private variable.\n",
    "\n",
    "Thus, the convention followed is that any variable that is to be used only within the class or object should begin with an underscore and all other names are public and can be used by other classes/objects. Remember that this is only a convention and is not enforced by Python (except for the double underscore prefix).\n",
    "\n",
    "*Note for C++/Java/C# Programmers*\n",
    "\n",
    "*All class members (including the data members) are public and all the methods are virtual in Python.*\n",
    "\n"
   ]
  },
  {
   "cell_type": "markdown",
   "metadata": {},
   "source": [
    "#### Few More Examples:"
   ]
  },
  {
   "cell_type": "code",
   "execution_count": 12,
   "metadata": {},
   "outputs": [
    {
     "name": "stdout",
     "output_type": "stream",
     "text": [
      "The shark is swimming.\n",
      "The shark is being awesome.\n"
     ]
    }
   ],
   "source": [
    "class Shark:\n",
    "    def swim(self):\n",
    "        print(\"The shark is swimming.\")\n",
    "\n",
    "    def be_awesome(self):\n",
    "        print(\"The shark is being awesome.\")\n",
    "        \n",
    "fish = Shark()\n",
    "fish.swim()\n",
    "fish.be_awesome()"
   ]
  },
  {
   "cell_type": "code",
   "execution_count": 14,
   "metadata": {},
   "outputs": [
    {
     "name": "stdout",
     "output_type": "stream",
     "text": [
      "The shark is swimming.\n",
      "The shark is being awesome.\n"
     ]
    }
   ],
   "source": [
    "class Shark:\n",
    "    def swim(self):\n",
    "        print(\"The shark is swimming.\")\n",
    "\n",
    "    def be_awesome(self):\n",
    "        print(\"The shark is being awesome.\")\n",
    "\n",
    "\n",
    "def main():\n",
    "    sammy = Shark()\n",
    "    sammy.swim()\n",
    "    sammy.be_awesome()\n",
    "    \n",
    "if __name__ == \"__main__\":\n",
    "    main()\n"
   ]
  },
  {
   "cell_type": "code",
   "execution_count": 19,
   "metadata": {},
   "outputs": [],
   "source": [
    "class Dog:\n",
    "\n",
    "    kind = 'dobberman'         # class variable shared by all instances\n",
    "\n",
    "    def __init__(self, name):\n",
    "        self.name = name    # instance variable unique to each instance\n"
   ]
  },
  {
   "cell_type": "code",
   "execution_count": 20,
   "metadata": {},
   "outputs": [
    {
     "data": {
      "text/plain": [
       "('buddy', 'dobberman')"
      ]
     },
     "execution_count": 20,
     "metadata": {},
     "output_type": "execute_result"
    }
   ],
   "source": [
    "d = Dog(\"buddy\")\n",
    "d.name , d.kind\n"
   ]
  },
  {
   "cell_type": "code",
   "execution_count": 21,
   "metadata": {},
   "outputs": [
    {
     "data": {
      "text/plain": [
       "('foo', 'dobberman')"
      ]
     },
     "execution_count": 21,
     "metadata": {},
     "output_type": "execute_result"
    }
   ],
   "source": [
    "e = Dog(\"foo\")\n",
    "e.name , e.kind"
   ]
  },
  {
   "cell_type": "markdown",
   "metadata": {},
   "source": [
    "##### Example illustrating class and object variables:\n",
    "Generally speaking, instance variables are for data unique to each instance and class variables are for attributes and methods shared by all instances of the class:"
   ]
  },
  {
   "cell_type": "markdown",
   "metadata": {},
   "source": [
    "Shared data can have possibly surprising effects with involving mutable objects such as lists and dictionaries. For example, the tricks list in the following code should not be used as a class variable because just a single list would be shared by all Dog instances:"
   ]
  },
  {
   "cell_type": "code",
   "execution_count": 22,
   "metadata": {},
   "outputs": [],
   "source": [
    "class Dog:\n",
    "\n",
    "    tricks = []             # mistaken use of a class variable\n",
    "\n",
    "    def __init__(self, name):\n",
    "        self.name = name\n",
    "\n",
    "    def add_trick(self, trick):\n",
    "        self.tricks.append(trick)\n"
   ]
  },
  {
   "cell_type": "code",
   "execution_count": 23,
   "metadata": {},
   "outputs": [
    {
     "data": {
      "text/plain": [
       "['roll over', 'play dead']"
      ]
     },
     "execution_count": 23,
     "metadata": {},
     "output_type": "execute_result"
    }
   ],
   "source": [
    "d = Dog('Fido')\n",
    "e = Dog('Buddy')\n",
    "d.add_trick('roll over')\n",
    "e.add_trick('play dead')\n",
    "d.tricks                # unexpectedly shared by all dogs"
   ]
  },
  {
   "cell_type": "markdown",
   "metadata": {},
   "source": [
    "Correct design of the class should use an instance variable instead:"
   ]
  },
  {
   "cell_type": "code",
   "execution_count": null,
   "metadata": {},
   "outputs": [],
   "source": [
    "class Dog:\n",
    "\n",
    "    def __init__(self, name):\n",
    "        self.name = name\n",
    "        self.tricks = []    # creates a new empty list for each dog\n",
    "\n",
    "    def add_trick(self, trick):\n",
    "        self.tricks.append(trick)     \n",
    "\n",
    "\n",
    "d = Dog('Fido')\n",
    "e = Dog('Buddy')\n",
    "d.add_trick('roll over')\n",
    "e.add_trick('play dead')\n",
    "\n",
    "mydog = \"tommy\"\n",
    "mydog.add_trick(\"jump over\")"
   ]
  },
  {
   "cell_type": "code",
   "execution_count": null,
   "metadata": {},
   "outputs": [],
   "source": [
    "d.tricks\n"
   ]
  },
  {
   "cell_type": "code",
   "execution_count": 3,
   "metadata": {},
   "outputs": [
    {
     "data": {
      "text/plain": [
       "['play dead']"
      ]
     },
     "execution_count": 3,
     "metadata": {},
     "output_type": "execute_result"
    }
   ],
   "source": [
    "e.tricks\n"
   ]
  },
  {
   "cell_type": "code",
   "execution_count": null,
   "metadata": {},
   "outputs": [],
   "source": []
  }
 ],
 "metadata": {
  "kernelspec": {
   "display_name": "Python 3",
   "language": "python",
   "name": "python3"
  },
  "language_info": {
   "codemirror_mode": {
    "name": "ipython",
    "version": 3
   },
   "file_extension": ".py",
   "mimetype": "text/x-python",
   "name": "python",
   "nbconvert_exporter": "python",
   "pygments_lexer": "ipython3",
   "version": "3.6.5"
  }
 },
 "nbformat": 4,
 "nbformat_minor": 2
}
