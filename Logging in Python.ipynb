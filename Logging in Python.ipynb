{
 "cells": [
  {
   "cell_type": "markdown",
   "metadata": {},
   "source": [
    "# Logging Tutorial\n"
   ]
  },
  {
   "cell_type": "markdown",
   "metadata": {},
   "source": [
    "### Introduction"
   ]
  },
  {
   "cell_type": "markdown",
   "metadata": {},
   "source": [
    "The logging module is part of the **standard Python library** and provides tracking for events that occur while software runs. You can add logging calls to your code to indicate what events have happened.\n",
    "\n",
    "The logging module allows for both diagnostic logging that records events related to an application’s operation, as well as audit logging which records the events of a user’s transactions for analysis. **It is especially used to record events to a file**."
   ]
  },
  {
   "cell_type": "markdown",
   "metadata": {},
   "source": [
    "*Logging is a means of tracking events that happen when some software runs. The software’s developer adds logging calls to their code to indicate that certain events have occurred. An event is described by a descriptive message which can optionally contain variable data (i.e. data that is potentially different for each occurrence of the event). Events also have an importance which the developer ascribes to the event; the importance can also be called the level or severity.*"
   ]
  },
  {
   "cell_type": "markdown",
   "metadata": {},
   "source": [
    "### Why Use the `logging` Module"
   ]
  },
  {
   "cell_type": "markdown",
   "metadata": {},
   "source": [
    "The logging module keeps a record of the events that occur within a program, making it possible to see output related to any of the events that occur throughout the runtime of a piece of software.\n",
    "\n",
    "You may be more familiar with checking that events are occurring by using the **print( )** statement throughout your code. The **print( )** statement does provide a basic way to go about debugging your code to resolve issues. While embedding **print( )** statements throughout your code can track the execution flow and the current state of your program, this solution proves to be less maintainable than using the **logging** module for a few reasons:"
   ]
  },
  {
   "cell_type": "markdown",
   "metadata": {},
   "source": [
    "- It becomes difficult to distinguish between debugging output and normal program output because the two are mixed\n",
    "\n",
    "\n",
    "- When using print() statements dispersed throughout code, there is no easy way to disable the ones that provide debugging output\n",
    "\n",
    "\n",
    "- It becomes difficult to remove all the print() statements when you are done with debugging\n",
    "\n",
    "\n",
    "- There is no log record that contains readily available diagnostic information"
   ]
  },
  {
   "cell_type": "markdown",
   "metadata": {},
   "source": [
    "It is a good idea to get in the habit of using the logging module in your code as this is more suitable for applications that grow beyond simple Python scripts and provides a sustainable approach to debugging.\n",
    "\n",
    "Because logs can show you behavior and errors over time, they also can give you a better overall picture of what is going on in your application development process."
   ]
  },
  {
   "cell_type": "markdown",
   "metadata": {},
   "source": [
    "Logging provides a set of convenience functions for simple logging usage. These are **debug( ), info( ), warning( ), error( ) and critical( ).** "
   ]
  },
  {
   "cell_type": "markdown",
   "metadata": {},
   "source": [
    "The logging functions are named after the level or severity of the events they are used to track. The standard levels and their applicability are described below (in increasing order of severity):"
   ]
  },
  {
   "cell_type": "markdown",
   "metadata": {},
   "source": [
    "<table border=\"1\" class=\"docutils\">\n",
    "<colgroup>\n",
    "<col width=\"24%\" />\n",
    "<col width=\"76%\" />\n",
    "</colgroup>\n",
    "<thead valign=\"bottom\">\n",
    "<tr class=\"row-odd\"><th class=\"head\">Level</th>\n",
    "<th class=\"head\">When it’s used</th>\n",
    "</tr>\n",
    "</thead>\n",
    "<tbody valign=\"top\">\n",
    "<tr class=\"row-even\"><td><code class=\"docutils literal notranslate\"><span class=\"pre\">DEBUG</span></code></td>\n",
    "<td>Detailed information, typically of interest\n",
    "only when diagnosing problems.</td>\n",
    "</tr>\n",
    "<tr class=\"row-odd\"><td><code class=\"docutils literal notranslate\"><span class=\"pre\">INFO</span></code></td>\n",
    "<td>Confirmation that things are working as\n",
    "expected.</td>\n",
    "</tr>\n",
    "<tr class=\"row-even\"><td><code class=\"docutils literal notranslate\"><span class=\"pre\">WARNING</span></code></td>\n",
    "<td>An indication that something unexpected\n",
    "happened, or indicative of some problem in\n",
    "the near future (e.g. ‘disk space low’).\n",
    "The software is still working as expected.</td>\n",
    "</tr>\n",
    "<tr class=\"row-odd\"><td><code class=\"docutils literal notranslate\"><span class=\"pre\">ERROR</span></code></td>\n",
    "<td>Due to a more serious problem, the software\n",
    "has not been able to perform some function.</td>\n",
    "</tr>\n",
    "<tr class=\"row-even\"><td><code class=\"docutils literal notranslate\"><span class=\"pre\">CRITICAL</span></code></td>\n",
    "<td>A serious error, indicating that the program\n",
    "itself may be unable to continue running.</td>\n",
    "</tr>\n",
    "</tbody>\n",
    "</table>"
   ]
  },
  {
   "cell_type": "markdown",
   "metadata": {},
   "source": [
    "The default level is `WARNING`, which means that only events of this level and above will be tracked, unless the logging module is configured to do otherwise.\n",
    "\n",
    "Events that are tracked can be handled in different ways. The simplest way of handling tracked events is to **print them to the console**. Another common way is to **write them to a disk file**."
   ]
  },
  {
   "cell_type": "markdown",
   "metadata": {},
   "source": [
    "### Printing Debug Messages to Console"
   ]
  },
  {
   "cell_type": "markdown",
   "metadata": {},
   "source": [
    "##### A simple example"
   ]
  },
  {
   "cell_type": "code",
   "execution_count": 1,
   "metadata": {},
   "outputs": [
    {
     "name": "stderr",
     "output_type": "stream",
     "text": [
      "WARNING:root:Watch out!\n"
     ]
    }
   ],
   "source": [
    "import logging\n",
    "logging.warning('Watch out!')  # will print a message to the console\n",
    "logging.info('I told you so')  # will not print anything"
   ]
  },
  {
   "cell_type": "markdown",
   "metadata": {},
   "source": [
    "The INFO message doesn’t appear because the default level is WARNING. The printed message includes the indication of the level and the description of the event provided in the logging call, i.e. ‘Watch out!’. Don’t worry about the ‘root’ part for now: it will be explained later. The actual output can be formatted quite flexibly if you need that; using string formatting options which we already know and we will examples later using string formatting."
   ]
  },
  {
   "cell_type": "markdown",
   "metadata": {},
   "source": [
    "Let me explain with another example in detail:"
   ]
  },
  {
   "cell_type": "markdown",
   "metadata": {},
   "source": [
    "#### Printing Debug Messages to Console"
   ]
  },
  {
   "cell_type": "markdown",
   "metadata": {},
   "source": [
    "If you are used to using the print() statement to see what is occurring in a program, you may be used to seeing a program that defines a class and instantiates objects that looks something like this:"
   ]
  },
  {
   "cell_type": "code",
   "execution_count": 2,
   "metadata": {},
   "outputs": [],
   "source": [
    "class Pizza():\n",
    "    def __init__(self, name, price):\n",
    "        self.name = name\n",
    "        self.price = price\n",
    "        print(\"Pizza created: {} (Rs{})\".format(self.name, self.price))\n",
    "\n",
    "    def make(self, quantity=1):\n",
    "        print(\"Made {} {} pizza(s)\".format(quantity, self.name))\n",
    "\n",
    "    def eat(self, quantity=1):\n",
    "        print(\"Ate {} pizza(s)\".format(quantity, self.name))\n"
   ]
  },
  {
   "cell_type": "markdown",
   "metadata": {},
   "source": [
    "The code above has an **`__init__`** method to define the `name` and `price` of an object of the `Pizza` class. It then has two methods, one called `make()` for making pizzas, and one called `eat()` for eating pizzas. These two methods take in the parameter of quantity, which is initialized(default value) at 1.\n",
    "\n",
    "Let us instantiate few pizzas and call its methods:"
   ]
  },
  {
   "cell_type": "code",
   "execution_count": 3,
   "metadata": {},
   "outputs": [
    {
     "name": "stdout",
     "output_type": "stream",
     "text": [
      "Pizza created: artichoke (Rs15)\n",
      "Made 1 artichoke pizza(s)\n",
      "Ate 1 pizza(s)\n"
     ]
    }
   ],
   "source": [
    "pizza_01 = Pizza(\"artichoke\", 15)\n",
    "pizza_01.make()\n",
    "pizza_01.eat()"
   ]
  },
  {
   "cell_type": "code",
   "execution_count": 5,
   "metadata": {},
   "outputs": [
    {
     "name": "stdout",
     "output_type": "stream",
     "text": [
      "Pizza created: margherita (Rs12)\n",
      "Made 2 margherita pizza(s)\n",
      "Ate 1 pizza(s)\n"
     ]
    }
   ],
   "source": [
    "pizza_02 = Pizza(\"margherita\", 12)\n",
    "pizza_02.make(2)\n",
    "pizza_02.eat()"
   ]
  },
  {
   "cell_type": "markdown",
   "metadata": {},
   "source": [
    "While the `print()` statement allows us to see that the code is working, we can use the `logging` module to do this instead.\n",
    "\n",
    "Let’s remove or comment out the `print()` statements throughout the code, and add `import logging` to the top of the cell:"
   ]
  },
  {
   "cell_type": "raw",
   "metadata": {},
   "source": [
    "import logging\n",
    "\n",
    "\n",
    "class Pizza():\n",
    "    def __init__(self, name, value):\n",
    "        self.name = name\n",
    "        self.value = value\n",
    "..."
   ]
  },
  {
   "cell_type": "markdown",
   "metadata": {},
   "source": [
    "The logging module has a default level of `WARNING`, which is a level above `DEBUG`. Since we’re going to use the logging module for debugging in this example, we need to modify the configuration so that the level of `logging.DEBUG` will return information to the console for us. We can do that by adding the following line below the import statement:\n",
    "\n"
   ]
  },
  {
   "cell_type": "raw",
   "metadata": {},
   "source": [
    "import logging\n",
    "\n",
    "logging.basicConfig(level=logging.DEBUG)\n",
    "\n",
    "\n",
    "class Pizza():\n",
    "..."
   ]
  },
  {
   "cell_type": "markdown",
   "metadata": {},
   "source": [
    "This level of `logging.DEBUG` refers to a constant integer value that we reference in the code above to set a threshold. The level of `DEBUG` is 10.\n",
    "\n",
    "Now, we will replace all of the `print()` statements with `logging.debug()` statements instead. Unlike `logging.DEBUG` which is a constant, `logging.debug()` is a method of the logging module. When working with this method, we can make use of the same string passed to `print()`, as shown below."
   ]
  },
  {
   "cell_type": "code",
   "execution_count": 1,
   "metadata": {},
   "outputs": [],
   "source": [
    "import logging\n",
    "\n",
    "logging.basicConfig(level=logging.DEBUG)\n",
    "\n",
    "\n",
    "class Pizza():\n",
    "    def __init__(self, name, price):\n",
    "        self.name = name\n",
    "        self.price = price\n",
    "        logging.debug(\"Pizza created: {} (${})\".format(self.name, self.price))\n",
    "\n",
    "    def make(self, quantity=1):\n",
    "        logging.debug(\"Made {} {} pizza(s)\".format(quantity, self.name))\n",
    "\n",
    "    def eat(self, quantity=1):\n",
    "        logging.debug(\"Ate {} pizza(s)\".format(quantity, self.name))"
   ]
  },
  {
   "cell_type": "code",
   "execution_count": 2,
   "metadata": {},
   "outputs": [
    {
     "name": "stderr",
     "output_type": "stream",
     "text": [
      "DEBUG:root:Pizza created: artichoke ($15)\n",
      "DEBUG:root:Made 1 artichoke pizza(s)\n",
      "DEBUG:root:Ate 1 pizza(s)\n"
     ]
    }
   ],
   "source": [
    "pizza_01 = Pizza(\"artichoke\", 15)\n",
    "pizza_01.make()\n",
    "pizza_01.eat()"
   ]
  },
  {
   "cell_type": "code",
   "execution_count": 3,
   "metadata": {},
   "outputs": [
    {
     "name": "stderr",
     "output_type": "stream",
     "text": [
      "DEBUG:root:Pizza created: margherita ($12)\n",
      "DEBUG:root:Made 2 margherita pizza(s)\n",
      "DEBUG:root:Ate 1 pizza(s)\n"
     ]
    }
   ],
   "source": [
    "pizza_02 = Pizza(\"margherita\", 12)\n",
    "pizza_02.make(2)\n",
    "pizza_02.eat()\n"
   ]
  },
  {
   "cell_type": "markdown",
   "metadata": {},
   "source": [
    "The log messages have the severity level `DEBUG` as well as the word root embedded in them, which refers to the level of your Python module. The `logging` module can be used with a hierarchy of loggers that have different names, so that you can use a different logger for each of your modules.\n",
    "\n",
    "For example, you can set loggers equal to different loggers that have different names and different output:"
   ]
  },
  {
   "cell_type": "code",
   "execution_count": 5,
   "metadata": {},
   "outputs": [
    {
     "name": "stderr",
     "output_type": "stream",
     "text": [
      "DEBUG:module_1:Module 1 debugger message\n",
      "DEBUG:module_2:Module 2 debugger message\n"
     ]
    }
   ],
   "source": [
    "logger1 = logging.getLogger(\"module_1\")\n",
    "logger2 = logging.getLogger(\"module_2\")\n",
    "\n",
    "logger1.debug(\"Module 1 debugger message\")\n",
    "logger2.debug(\"Module 2 debugger message\")"
   ]
  },
  {
   "cell_type": "markdown",
   "metadata": {},
   "source": [
    "Now that we have an understanding of how to use the logging module to print messages to the console, let’s move on to using the logging module to print messages out to a file."
   ]
  },
  {
   "cell_type": "markdown",
   "metadata": {},
   "source": [
    "#### Logging Messages to a File"
   ]
  },
  {
   "cell_type": "markdown",
   "metadata": {},
   "source": [
    "The primary purpose of the `logging` module is to log messages to a file rather than to a console. Keeping a file of messages provides you with data over time that you can consult and quantify so that you can see what changes need to be made to your code.\n",
    "\n",
    "To start `logging` to a file, we can modify the `logging.basicConfig()` method to include a filename parameter. In this case, let’s call the filename `example.log`:\n",
    "\n",
    "*Note: you need to restart the kernel before executing the below cells to see the effect.*"
   ]
  },
  {
   "cell_type": "code",
   "execution_count": 1,
   "metadata": {},
   "outputs": [],
   "source": [
    "import logging\n",
    "\n",
    "logging.basicConfig(filename=\"example.log\", level=logging.DEBUG)\n",
    "\n",
    "\n",
    "class Pizza():\n",
    "    def __init__(self, name, price):\n",
    "        self.name = name\n",
    "        self.price = price\n",
    "        logging.debug(\"Pizza created: {} (${})\".format(self.name, self.price))\n",
    "\n",
    "    def make(self, quantity=1):\n",
    "        logging.debug(\"Made {} {} pizza(s)\".format(quantity, self.name))\n",
    "\n",
    "    def eat(self, quantity=1):\n",
    "        logging.debug(\"Ate {} pizza(s)\".format(quantity, self.name))"
   ]
  },
  {
   "cell_type": "code",
   "execution_count": 2,
   "metadata": {},
   "outputs": [],
   "source": [
    "pizza_01 = Pizza(\"artichoke\", 15)\n",
    "pizza_01.make()\n",
    "pizza_01.eat()\n"
   ]
  },
  {
   "cell_type": "code",
   "execution_count": 3,
   "metadata": {},
   "outputs": [],
   "source": [
    "pizza_02 = Pizza(\"margherita\", 12)\n",
    "pizza_02.make(2)\n",
    "pizza_02.eat()\n"
   ]
  },
  {
   "cell_type": "markdown",
   "metadata": {},
   "source": [
    "The code above is the same as it was in the previous section, except that now we added the filename for the log to print to. Once we run the code after restarting the kernel, we should have a new file in our directory called `example.log`.\n",
    "\n",
    "Let’s open the `example.log` file with text editor of your choice,When the file opens, we’ll see the following:\n",
    "\n"
   ]
  },
  {
   "cell_type": "raw",
   "metadata": {},
   "source": [
    "                                        example.log\n",
    "                                        \n",
    "DEBUG:root:Pizza created: artichoke ($15)\n",
    "DEBUG:root:Made 1 artichoke pizza(s)\n",
    "DEBUG:root:Ate 1 pizza(s)\n",
    "DEBUG:root:Pizza created: margherita ($12)\n",
    "DEBUG:root:Made 2 margherita pizza(s)\n",
    "DEBUG:root:Ate 1 pizza(s)"
   ]
  },
  {
   "cell_type": "markdown",
   "metadata": {},
   "source": [
    "This is similar to the console output that we encountered in the previous section, except now it is in the `example.log` file.\n",
    "\n",
    "Let’s close the file with CTRL + x and move back into the notebook so that we can modify the code.\n",
    "\n",
    "We’ll keep much of the code the same, but modify the parameters in the two pizza instances, pizza_01 and pizza_02 as below and run the cells and check the log file again...."
   ]
  },
  {
   "cell_type": "code",
   "execution_count": 4,
   "metadata": {},
   "outputs": [],
   "source": [
    "# Modify the parameters of the pizza_01 object\n",
    "pizza_01 = Pizza(\"Sicilian\", 18)\n",
    "pizza_01.make(5)\n",
    "pizza_01.eat(4)\n"
   ]
  },
  {
   "cell_type": "code",
   "execution_count": 5,
   "metadata": {},
   "outputs": [],
   "source": [
    "# Modify the parameters of the pizza_02 object\n",
    "pizza_02 = Pizza(\"quattro formaggi\", 16)\n",
    "pizza_02.make(2)\n",
    "pizza_02.eat(2)"
   ]
  },
  {
   "cell_type": "markdown",
   "metadata": {},
   "source": [
    "and the result is:"
   ]
  },
  {
   "cell_type": "raw",
   "metadata": {},
   "source": [
    "                                      example.log\n",
    "    \n",
    "DEBUG:root:Pizza created: artichoke ($15)\n",
    "DEBUG:root:Made 1 artichoke pizza(s)\n",
    "DEBUG:root:Ate 1 pizza(s)\n",
    "DEBUG:root:Pizza created: margherita ($12)\n",
    "DEBUG:root:Made 2 margherita pizza(s)\n",
    "DEBUG:root:Ate 1 pizza(s)\n",
    "DEBUG:root:Pizza created: Sicilian ($18)\n",
    "DEBUG:root:Made 5 Sicilian pizza(s)\n",
    "DEBUG:root:Ate 4 pizza(s)\n",
    "DEBUG:root:Pizza created: quattro formaggi ($16)\n",
    "DEBUG:root:Made 2 quattro formaggi pizza(s)\n",
    "DEBUG:root:Ate 2 pizza(s)"
   ]
  },
  {
   "cell_type": "markdown",
   "metadata": {},
   "source": [
    "While this information is certainly useful, we can make the log more informative by adding additional [LogRecord attributes](https://docs.python.org/3/library/logging.html#logrecord-attributes). Primarily, we would like to add a human-readable time stamp that tells us when the LogRecord was created.\n",
    "\n",
    "We can add that attribute to a parameter called `format`, referencing it as shown in the table with the string `%(asctime)s`. Additionally, to keep the `DEBUG` level name, we’ll need to include the string `%(levelname)s` and to keep the string message that we ask the logger to print out we’ll include `%(message)s`. Each of these attributes will be separated by a `colon`, as shown in the code added below."
   ]
  },
  {
   "cell_type": "code",
   "execution_count": 1,
   "metadata": {},
   "outputs": [],
   "source": [
    "import logging\n",
    "\n",
    "logging.basicConfig(\n",
    "    filename=\"example.log\",\n",
    "    level=logging.DEBUG,\n",
    "    format=\"%(asctime)s:%(levelname)s:%(message)s\")\n",
    "    \n",
    "\n",
    "\n",
    "class Pizza():\n",
    "    def __init__(self, name, price):\n",
    "        self.name = name\n",
    "        self.price = price\n",
    "        logging.debug(\"Pizza created: {} (${})\".format(self.name, self.price))\n",
    "\n",
    "    def make(self, quantity=1):\n",
    "        logging.debug(\"Made {} {} pizza(s)\".format(quantity, self.name))\n",
    "\n",
    "    def eat(self, quantity=1):\n",
    "        logging.debug(\"Ate {} pizza(s)\".format(quantity, self.name))\n"
   ]
  },
  {
   "cell_type": "code",
   "execution_count": 2,
   "metadata": {},
   "outputs": [],
   "source": [
    "pizza_01 = Pizza(\"Sicilian\", 18)\n",
    "pizza_01.make(5)\n",
    "pizza_01.eat(4)\n"
   ]
  },
  {
   "cell_type": "code",
   "execution_count": 3,
   "metadata": {},
   "outputs": [],
   "source": [
    "pizza_02 = Pizza(\"quattro formaggi\", 16)\n",
    "pizza_02.make(2)\n",
    "pizza_02.eat(2)\n"
   ]
  },
  {
   "cell_type": "markdown",
   "metadata": {},
   "source": [
    "When we run the code above with the added attributes after restsrtin the kernel, we’ll get new lines added to our example.log file that include the human-readable time stamp in addition to the level name of DEBUG and the associated messages that are passed into the logger as strings."
   ]
  },
  {
   "cell_type": "raw",
   "metadata": {},
   "source": [
    "                                  example.log\n",
    "                                  \n",
    "                                  \n",
    "DEBUG:root:Pizza created: Sicilian ($18)\n",
    "DEBUG:root:Made 5 Sicilian pizza(s)\n",
    "DEBUG:root:Ate 4 pizza(s)\n",
    "DEBUG:root:Pizza created: quattro formaggi ($16)\n",
    "DEBUG:root:Made 2 quattro formaggi pizza(s)\n",
    "DEBUG:root:Ate 2 pizza(s)\n",
    "2017-05-01 16:28:54,593:DEBUG:Pizza created: Sicilian ($18)\n",
    "2017-05-01 16:28:54,593:DEBUG:Made 5 Sicilian pizza(s)\n",
    "2017-05-01 16:28:54,593:DEBUG:Ate 4 pizza(s)\n",
    "2017-05-01 16:28:54,593:DEBUG:Pizza created: quattro formaggi ($16)\n",
    "2017-05-01 16:28:54,593:DEBUG:Made 2 quattro formaggi pizza(s)\n",
    "2017-05-01 16:28:54,593:DEBUG:Ate 2 pizza(s)"
   ]
  },
  {
   "cell_type": "markdown",
   "metadata": {},
   "source": [
    "#### Table of Logging Levels"
   ]
  },
  {
   "cell_type": "markdown",
   "metadata": {},
   "source": [
    "As a developer, you can ascribe a level of importance to the event that is captured in the logger by adding a severity level. The severity levels are shown in the table below.\n",
    "\n",
    "Logging levels are technically integers (a constant), and they are all in increments of 10, starting with `NOTSET` which initializes the logger at the numeric value of 0.\n",
    "\n",
    "You can also define your own levels relative to the predefined levels. If you define a level with the same numeric value, you will overwrite the name associated with that value.\n",
    "\n",
    "The table in the beginning of the notebook shows various level name, what function you can use to call the level, and what that level is used for what."
   ]
  },
  {
   "cell_type": "markdown",
   "metadata": {},
   "source": [
    "The logging module sets the default level at WARNING, so WARNING, ERROR, and CRITICAL will all be logged by default. In the example above, we modified the configuration to include the DEBUG level with the following code:"
   ]
  },
  {
   "cell_type": "raw",
   "metadata": {},
   "source": [
    "logging.basicConfig(level=logging.DEBUG)"
   ]
  },
  {
   "cell_type": "markdown",
   "metadata": {},
   "source": [
    "You can read more about the commands and working with the debugger from the official [logging documentation.](https://docs.python.org/3/library/logging.html)"
   ]
  }
 ],
 "metadata": {
  "kernelspec": {
   "display_name": "Python 3",
   "language": "python",
   "name": "python3"
  },
  "language_info": {
   "codemirror_mode": {
    "name": "ipython",
    "version": 3
   },
   "file_extension": ".py",
   "mimetype": "text/x-python",
   "name": "python",
   "nbconvert_exporter": "python",
   "pygments_lexer": "ipython3",
   "version": "3.6.5"
  }
 },
 "nbformat": 4,
 "nbformat_minor": 2
}
